{
 "cells": [
  {
   "cell_type": "markdown",
   "metadata": {},
   "source": [
    "# LangGraph核心架构实现\n",
    "## 13天新疆旅游规划 - 智能状态图设计\n",
    "\n",
    "**目标**: 实现基于LangGraph的智能旅游规划状态图，解决Token限制问题\n",
    "\n",
    "**核心创新**:\n",
    "- 地理分片策略：将13天规划分解为4个区域\n",
    "- 智能状态管理：支持中断恢复和错误处理\n",
    "- 条件路由：根据数据质量动态选择处理路径"
   ]
  },
  {
   "cell_type": "code",
   "execution_count": 1,
   "metadata": {
    "execution": {
     "iopub.execute_input": "2025-08-10T11:51:45.475789Z",
     "iopub.status.busy": "2025-08-10T11:51:45.475389Z",
     "iopub.status.idle": "2025-08-10T11:51:50.562525Z",
     "shell.execute_reply": "2025-08-10T11:51:50.556046Z"
    }
   },
   "outputs": [
    {
     "name": "stdout",
     "output_type": "stream",
     "text": [
      "Looking in indexes: https://pypi.tuna.tsinghua.edu.cn/simple, https://pypi.org/simple\r\n",
      "Requirement already satisfied: langgraph in /usr/local/lib/python3.10/site-packages (0.6.4)\r\n",
      "Requirement already satisfied: langchain-core in /usr/local/lib/python3.10/site-packages (0.3.74)\r\n",
      "Requirement already satisfied: typing-extensions in /usr/local/lib/python3.10/site-packages (4.12.2)\r\n",
      "Requirement already satisfied: pydantic in /usr/local/lib/python3.10/site-packages (2.10.6)\r\n",
      "Requirement already satisfied: openai in /usr/local/lib/python3.10/site-packages (1.98.0)\r\n"
     ]
    },
    {
     "name": "stdout",
     "output_type": "stream",
     "text": [
      "Requirement already satisfied: aiohttp in /usr/local/lib/python3.10/site-packages (3.12.15)\r\n",
      "Requirement already satisfied: asyncio in /usr/local/lib/python3.10/site-packages (4.0.0)\r\n",
      "Requirement already satisfied: requests in /usr/local/lib/python3.10/site-packages (2.32.3)\r\n",
      "Requirement already satisfied: tenacity in /usr/local/lib/python3.10/site-packages (9.1.2)\r\n",
      "Requirement already satisfied: tiktoken in /usr/local/lib/python3.10/site-packages (0.9.0)\r\n",
      "Requirement already satisfied: jinja2 in /usr/local/lib/python3.10/site-packages (3.1.5)\r\n",
      "Requirement already satisfied: nest-asyncio in /usr/local/lib/python3.10/site-packages (1.6.0)\r\n",
      "Requirement already satisfied: python-dotenv in /usr/local/lib/python3.10/site-packages (1.1.1)\r\n",
      "Requirement already satisfied: langgraph-checkpoint<3.0.0,>=2.1.0 in /usr/local/lib/python3.10/site-packages (from langgraph) (2.1.1)\r\n",
      "Requirement already satisfied: langgraph-prebuilt<0.7.0,>=0.6.0 in /usr/local/lib/python3.10/site-packages (from langgraph) (0.6.4)\r\n",
      "Requirement already satisfied: langgraph-sdk<0.3.0,>=0.2.0 in /usr/local/lib/python3.10/site-packages (from langgraph) (0.2.0)\r\n",
      "Requirement already satisfied: xxhash>=3.5.0 in /usr/local/lib/python3.10/site-packages (from langgraph) (3.5.0)\r\n",
      "Requirement already satisfied: ormsgpack>=1.10.0 in /usr/local/lib/python3.10/site-packages (from langgraph-checkpoint<3.0.0,>=2.1.0->langgraph) (1.10.0)\r\n",
      "Requirement already satisfied: httpx>=0.25.2 in /usr/local/lib/python3.10/site-packages (from langgraph-sdk<0.3.0,>=0.2.0->langgraph) (0.28.1)\r\n",
      "Requirement already satisfied: orjson>=3.10.1 in /usr/local/lib/python3.10/site-packages (from langgraph-sdk<0.3.0,>=0.2.0->langgraph) (3.10.15)\r\n",
      "Requirement already satisfied: langsmith>=0.3.45 in /usr/local/lib/python3.10/site-packages (from langchain-core) (0.4.13)\r\n",
      "Requirement already satisfied: jsonpatch<2.0,>=1.33 in /usr/local/lib/python3.10/site-packages (from langchain-core) (1.33)\r\n",
      "Requirement already satisfied: PyYAML>=5.3 in /usr/local/lib/python3.10/site-packages (from langchain-core) (6.0.2)\r\n",
      "Requirement already satisfied: packaging>=23.2 in /usr/local/lib/python3.10/site-packages (from langchain-core) (24.2)\r\n"
     ]
    },
    {
     "name": "stdout",
     "output_type": "stream",
     "text": [
      "Requirement already satisfied: jsonpointer>=1.9 in /usr/local/lib/python3.10/site-packages (from jsonpatch<2.0,>=1.33->langchain-core) (3.0.0)\r\n",
      "Requirement already satisfied: annotated-types>=0.6.0 in /usr/local/lib/python3.10/site-packages (from pydantic) (0.7.0)\r\n",
      "Requirement already satisfied: pydantic-core==2.27.2 in /usr/local/lib/python3.10/site-packages (from pydantic) (2.27.2)\r\n",
      "Requirement already satisfied: anyio<5,>=3.5.0 in /usr/local/lib/python3.10/site-packages (from openai) (4.8.0)\r\n"
     ]
    },
    {
     "name": "stdout",
     "output_type": "stream",
     "text": [
      "Requirement already satisfied: distro<2,>=1.7.0 in /usr/local/lib/python3.10/site-packages (from openai) (1.9.0)\r\n",
      "Requirement already satisfied: jiter<1,>=0.4.0 in /usr/local/lib/python3.10/site-packages (from openai) (0.10.0)\r\n",
      "Requirement already satisfied: sniffio in /usr/local/lib/python3.10/site-packages (from openai) (1.3.1)\r\n",
      "Requirement already satisfied: tqdm>4 in /usr/local/lib/python3.10/site-packages (from openai) (4.67.1)\r\n",
      "Requirement already satisfied: exceptiongroup>=1.0.2 in /usr/local/lib/python3.10/site-packages (from anyio<5,>=3.5.0->openai) (1.2.2)\r\n",
      "Requirement already satisfied: idna>=2.8 in /usr/local/lib/python3.10/site-packages (from anyio<5,>=3.5.0->openai) (3.10)\r\n",
      "Requirement already satisfied: certifi in /usr/local/lib/python3.10/site-packages (from httpx>=0.25.2->langgraph-sdk<0.3.0,>=0.2.0->langgraph) (2024.12.14)\r\n",
      "Requirement already satisfied: httpcore==1.* in /usr/local/lib/python3.10/site-packages (from httpx>=0.25.2->langgraph-sdk<0.3.0,>=0.2.0->langgraph) (1.0.7)\r\n",
      "Requirement already satisfied: h11<0.15,>=0.13 in /usr/local/lib/python3.10/site-packages (from httpcore==1.*->httpx>=0.25.2->langgraph-sdk<0.3.0,>=0.2.0->langgraph) (0.14.0)\r\n"
     ]
    },
    {
     "name": "stdout",
     "output_type": "stream",
     "text": [
      "Requirement already satisfied: aiohappyeyeballs>=2.5.0 in /usr/local/lib/python3.10/site-packages (from aiohttp) (2.6.1)\r\n",
      "Requirement already satisfied: aiosignal>=1.4.0 in /usr/local/lib/python3.10/site-packages (from aiohttp) (1.4.0)\r\n",
      "Requirement already satisfied: async-timeout<6.0,>=4.0 in /usr/local/lib/python3.10/site-packages (from aiohttp) (5.0.1)\r\n",
      "Requirement already satisfied: attrs>=17.3.0 in /usr/local/lib/python3.10/site-packages (from aiohttp) (25.3.0)\r\n",
      "Requirement already satisfied: frozenlist>=1.1.1 in /usr/local/lib/python3.10/site-packages (from aiohttp) (1.7.0)\r\n",
      "Requirement already satisfied: multidict<7.0,>=4.5 in /usr/local/lib/python3.10/site-packages (from aiohttp) (6.6.3)\r\n",
      "Requirement already satisfied: propcache>=0.2.0 in /usr/local/lib/python3.10/site-packages (from aiohttp) (0.3.2)\r\n",
      "Requirement already satisfied: yarl<2.0,>=1.17.0 in /usr/local/lib/python3.10/site-packages (from aiohttp) (1.20.1)\r\n"
     ]
    },
    {
     "name": "stdout",
     "output_type": "stream",
     "text": [
      "Requirement already satisfied: charset-normalizer<4,>=2 in /usr/local/lib/python3.10/site-packages (from requests) (3.4.1)\r\n",
      "Requirement already satisfied: urllib3<3,>=1.21.1 in /usr/local/lib/python3.10/site-packages (from requests) (2.3.0)\r\n",
      "Requirement already satisfied: regex>=2022.1.18 in /usr/local/lib/python3.10/site-packages (from tiktoken) (2024.11.6)\r\n",
      "Requirement already satisfied: MarkupSafe>=2.0 in /usr/local/lib/python3.10/site-packages (from jinja2) (2.1.5)\r\n"
     ]
    },
    {
     "name": "stdout",
     "output_type": "stream",
     "text": [
      "Requirement already satisfied: requests-toolbelt>=1.0.0 in /usr/local/lib/python3.10/site-packages (from langsmith>=0.3.45->langchain-core) (1.0.0)\r\n",
      "Requirement already satisfied: zstandard>=0.23.0 in /usr/local/lib/python3.10/site-packages (from langsmith>=0.3.45->langchain-core) (0.23.0)\r\n"
     ]
    },
    {
     "name": "stdout",
     "output_type": "stream",
     "text": [
      "\r\n",
      "\u001b[1m[\u001b[0m\u001b[34;49mnotice\u001b[0m\u001b[1;39;49m]\u001b[0m\u001b[39;49m A new release of pip is available: \u001b[0m\u001b[31;49m25.1.1\u001b[0m\u001b[39;49m -> \u001b[0m\u001b[32;49m25.2\u001b[0m\r\n",
      "\u001b[1m[\u001b[0m\u001b[34;49mnotice\u001b[0m\u001b[1;39;49m]\u001b[0m\u001b[39;49m To update, run: \u001b[0m\u001b[32;49m/usr/local/opt/python@3.10/bin/python3.10 -m pip install --upgrade pip\u001b[0m\r\n"
     ]
    }
   ],
   "source": [
    "# 安装必要的依赖\n",
    "!pip install langgraph langchain-core typing-extensions pydantic openai aiohttp asyncio requests tenacity tiktoken jinja2 nest-asyncio python-dotenv"
   ]
  },
  {
   "cell_type": "code",
   "execution_count": 2,
   "metadata": {
    "execution": {
     "iopub.execute_input": "2025-08-10T11:51:50.575262Z",
     "iopub.status.busy": "2025-08-10T11:51:50.574659Z",
     "iopub.status.idle": "2025-08-10T11:51:50.634079Z",
     "shell.execute_reply": "2025-08-10T11:51:50.631992Z"
    }
   },
   "outputs": [
    {
     "name": "stdout",
     "output_type": "stream",
     "text": [
      "✅ 环境变量加载完成\n",
      "🔑 DeepSeek API: https://api.deepseek.com/v1\n",
      "🗺️ 高德MCP: http://localhost:8080/mcp\n",
      "🤖 AI模型: deepseek-chat\n",
      "⏱️ 超时设置: 300秒\n"
     ]
    }
   ],
   "source": [
    "# 环境变量配置和API密钥加载\n",
    "import os\n",
    "from dotenv import load_dotenv\n",
    "import logging\n",
    "\n",
    "# 加载环境变量\n",
    "load_dotenv()\n",
    "\n",
    "# 获取API密钥和配置\n",
    "DEEPSEEK_API_KEY = os.getenv('DEEPSEEK_API_KEY')\n",
    "AMAP_MCP_API_KEY = os.getenv('AMAP_MCP_API_KEY')\n",
    "AMAP_MCP_BASE_URL = os.getenv('AMAP_MCP_BASE_URL', 'http://localhost:8080/mcp')\n",
    "DEEPSEEK_API_BASE_URL = os.getenv('DEEPSEEK_API_BASE_URL', 'https://api.deepseek.com/v1')\n",
    "DEEPSEEK_MODEL = os.getenv('DEEPSEEK_MODEL', 'deepseek-chat')\n",
    "\n",
    "# LangGraph配置\n",
    "LANGGRAPH_TIMEOUT = int(os.getenv('LANGGRAPH_TIMEOUT', '300'))\n",
    "MAX_ITERATIONS = int(os.getenv('LANGGRAPH_MAX_ITERATIONS', '10'))\n",
    "COMPLEXITY_THRESHOLD_SIMPLE = int(os.getenv('COMPLEXITY_THRESHOLD_SIMPLE', '30'))\n",
    "COMPLEXITY_THRESHOLD_MEDIUM = int(os.getenv('COMPLEXITY_THRESHOLD_MEDIUM', '60'))\n",
    "COMPLEXITY_THRESHOLD_COMPLEX = int(os.getenv('COMPLEXITY_THRESHOLD_COMPLEX', '100'))\n",
    "\n",
    "# 验证必需的环境变量\n",
    "if not DEEPSEEK_API_KEY:\n",
    "    print(\"⚠️ DEEPSEEK_API_KEY 环境变量未设置，将使用模拟模式\")\n",
    "if not AMAP_MCP_API_KEY:\n",
    "    print(\"⚠️ AMAP_MCP_API_KEY 环境变量未设置，将使用模拟数据\")\n",
    "\n",
    "print(\"✅ 环境变量加载完成\")\n",
    "print(f\"🔑 DeepSeek API: {DEEPSEEK_API_BASE_URL}\")\n",
    "print(f\"🗺️ 高德MCP: {AMAP_MCP_BASE_URL}\")\n",
    "print(f\"🤖 AI模型: {DEEPSEEK_MODEL}\")\n",
    "print(f\"⏱️ 超时设置: {LANGGRAPH_TIMEOUT}秒\")\n",
    "\n",
    "# 配置日志\n",
    "logging.basicConfig(\n",
    "    level=logging.INFO,\n",
    "    format='%(asctime)s - %(name)s - %(levelname)s - %(message)s'\n",
    ")\n",
    "logger = logging.getLogger(__name__)"
   ]
  },
  {
   "cell_type": "code",
   "execution_count": 3,
   "metadata": {
    "execution": {
     "iopub.execute_input": "2025-08-10T11:51:50.640303Z",
     "iopub.status.busy": "2025-08-10T11:51:50.639616Z",
     "iopub.status.idle": "2025-08-10T11:51:52.271837Z",
     "shell.execute_reply": "2025-08-10T11:51:52.270575Z"
    }
   },
   "outputs": [],
   "source": [
    "from typing import TypedDict, List, Dict, Optional, Any, Annotated\n",
    "from langgraph.graph import StateGraph, END\n",
    "from langgraph.graph.message import add_messages\n",
    "from pydantic import BaseModel, Field\n",
    "import json\n",
    "import time\n",
    "import asyncio\n",
    "import aiohttp\n",
    "from datetime import datetime, timedelta\n",
    "from tenacity import retry, stop_after_attempt, wait_exponential"
   ]
  },
  {
   "cell_type": "markdown",
   "metadata": {},
   "source": [
    "## 1. DeepSeek API客户端\n",
    "\n",
    "集成DeepSeek API，替换OpenAI API调用"
   ]
  },
  {
   "cell_type": "code",
   "execution_count": 4,
   "metadata": {
    "execution": {
     "iopub.execute_input": "2025-08-10T11:51:52.276837Z",
     "iopub.status.busy": "2025-08-10T11:51:52.276355Z",
     "iopub.status.idle": "2025-08-10T11:51:53.370194Z",
     "shell.execute_reply": "2025-08-10T11:51:53.367389Z"
    }
   },
   "outputs": [
    {
     "name": "stderr",
     "output_type": "stream",
     "text": [
      "2025-08-10 19:51:53,362 - __main__ - INFO - 🤖 DeepSeek客户端初始化完成: deepseek-chat\n"
     ]
    },
    {
     "name": "stdout",
     "output_type": "stream",
     "text": [
      "🚀 DeepSeek客户端就绪: deepseek-chat\n"
     ]
    }
   ],
   "source": [
    "import openai\n",
    "from openai import OpenAI\n",
    "\n",
    "class DeepSeekAPIClient:\n",
    "    \"\"\"DeepSeek API客户端 - 兼容OpenAI接口\"\"\"\n",
    "    \n",
    "    def __init__(self, api_key: str = None, base_url: str = None, model: str = None):\n",
    "        self.api_key = api_key or DEEPSEEK_API_KEY\n",
    "        self.base_url = base_url or DEEPSEEK_API_BASE_URL\n",
    "        self.model = model or DEEPSEEK_MODEL\n",
    "        \n",
    "        # 初始化OpenAI客户端，指向DeepSeek端点\n",
    "        if self.api_key:\n",
    "            self.client = OpenAI(\n",
    "                api_key=self.api_key,\n",
    "                base_url=self.base_url\n",
    "            )\n",
    "        else:\n",
    "            self.client = None\n",
    "            logger.warning(\"⚠️ DeepSeek API密钥未设置，将使用模拟模式\")\n",
    "        \n",
    "        # 配置参数\n",
    "        self.max_tokens = int(os.getenv('DEEPSEEK_MAX_TOKENS', '4000'))\n",
    "        self.temperature = float(os.getenv('DEEPSEEK_TEMPERATURE', '0.7'))\n",
    "        self.top_p = float(os.getenv('DEEPSEEK_TOP_P', '0.95'))\n",
    "        self.max_retries = int(os.getenv('MAX_RETRIES', '3'))\n",
    "        \n",
    "        logger.info(f\"🤖 DeepSeek客户端初始化完成: {self.model}\")\n",
    "    \n",
    "    def sync_chat_completion(self, messages: List[Dict[str, str]], **kwargs) -> Dict[str, Any]:\n",
    "        \"\"\"同步聊天完成API调用\"\"\"\n",
    "        if not self.client:\n",
    "            # 模拟响应\n",
    "            return {\n",
    "                'content': f\"模拟AI响应 - 基于输入消息的智能分析结果\",\n",
    "                'usage': {'total_tokens': 100, 'prompt_tokens': 50, 'completion_tokens': 50},\n",
    "                'model': self.model,\n",
    "                'finish_reason': 'stop'\n",
    "            }\n",
    "        \n",
    "        try:\n",
    "            params = {\n",
    "                'model': self.model,\n",
    "                'messages': messages,\n",
    "                'max_tokens': self.max_tokens,\n",
    "                'temperature': self.temperature,\n",
    "                'top_p': self.top_p,\n",
    "                **kwargs\n",
    "            }\n",
    "            \n",
    "            response = self.client.chat.completions.create(**params)\n",
    "            \n",
    "            logger.info(f\"✅ DeepSeek API调用成功\")\n",
    "            return {\n",
    "                'content': response.choices[0].message.content,\n",
    "                'usage': response.usage.dict() if response.usage else {},\n",
    "                'model': response.model,\n",
    "                'finish_reason': response.choices[0].finish_reason\n",
    "            }\n",
    "            \n",
    "        except Exception as e:\n",
    "            logger.error(f\"❌ DeepSeek API调用失败: {e}\")\n",
    "            # 返回模拟响应以保证流程继续\n",
    "            return {\n",
    "                'content': f\"模拟AI响应 - 由于API调用失败，使用备用逻辑处理\",\n",
    "                'usage': {'total_tokens': 100, 'prompt_tokens': 50, 'completion_tokens': 50},\n",
    "                'model': self.model,\n",
    "                'finish_reason': 'stop'\n",
    "            }\n",
    "\n",
    "# 创建全局DeepSeek客户端实例\n",
    "deepseek_client = DeepSeekAPIClient()\n",
    "print(f\"🚀 DeepSeek客户端就绪: {deepseek_client.model}\")"
   ]
  },
  {
   "cell_type": "markdown",
   "metadata": {},
   "source": [
    "## 2. 核心状态定义\n",
    "\n",
    "基于第一性原理设计的状态结构，支持13天复杂规划的分片处理"
   ]
  },
  {
   "cell_type": "code",
   "execution_count": 5,
   "metadata": {
    "execution": {
     "iopub.execute_input": "2025-08-10T11:51:53.375424Z",
     "iopub.status.busy": "2025-08-10T11:51:53.374919Z",
     "iopub.status.idle": "2025-08-10T11:51:53.401912Z",
     "shell.execute_reply": "2025-08-10T11:51:53.400273Z"
    }
   },
   "outputs": [],
   "source": [
    "class UserPreferences(BaseModel):\n",
    "    \"\"\"用户偏好数据结构\"\"\"\n",
    "    budget_level: str = Field(description=\"预算等级: budget/mid/luxury\")\n",
    "    travel_style: List[str] = Field(description=\"旅行风格: 文化/自然/美食/摄影\")\n",
    "    group_size: int = Field(description=\"团队人数\")\n",
    "    special_requirements: Optional[str] = Field(description=\"特殊需求\")\n",
    "    interests: List[str] = Field(description=\"兴趣点\")\n",
    "\n",
    "class RegionInfo(BaseModel):\n",
    "    \"\"\"区域信息\"\"\"\n",
    "    name: str = Field(description=\"区域名称\")\n",
    "    days: int = Field(description=\"停留天数\")\n",
    "    priority: int = Field(description=\"优先级 1-4\")\n",
    "    key_attractions: List[str] = Field(description=\"核心景点\")\n",
    "    estimated_tokens: int = Field(description=\"预估Token使用量\")\n",
    "\n",
    "class ProcessingError(BaseModel):\n",
    "    \"\"\"处理错误信息\"\"\"\n",
    "    node_name: str\n",
    "    error_type: str\n",
    "    message: str\n",
    "    timestamp: datetime\n",
    "    retryable: bool = True\n",
    "\n",
    "class TravelPlanningState(TypedDict):\n",
    "    \"\"\"LangGraph状态定义 - 13天新疆规划专用\"\"\"\n",
    "    # 基础信息\n",
    "    session_id: str\n",
    "    user_preferences: UserPreferences\n",
    "    destination: str  # \"新疆\"\n",
    "    total_days: int   # 13\n",
    "    start_date: str\n",
    "    \n",
    "    # 分片信息\n",
    "    regions: List[RegionInfo]\n",
    "    current_region_index: int\n",
    "    current_phase: str  # \"analyze\" | \"collect_data\" | \"plan_region\" | \"merge\" | \"finalize\"\n",
    "    \n",
    "    # 数据层\n",
    "    real_data: Dict[str, Any]  # 高德MCP数据\n",
    "    region_plans: Dict[str, Any]  # 各区域的详细规划\n",
    "    \n",
    "    # 最终结果\n",
    "    master_plan: Optional[Dict[str, Any]]\n",
    "    html_output: Optional[str]\n",
    "    \n",
    "    # 执行状态\n",
    "    progress: float\n",
    "    errors: List[ProcessingError]\n",
    "    retry_count: int\n",
    "    quality_score: float\n",
    "    \n",
    "    # Token管理\n",
    "    tokens_used: int\n",
    "    tokens_remaining: int"
   ]
  },
  {
   "cell_type": "markdown",
   "metadata": {},
   "source": [
    "## 2. 核心节点实现\n",
    "\n",
    "每个节点都专注于单一职责，确保Token使用可控"
   ]
  },
  {
   "cell_type": "code",
   "execution_count": 6,
   "metadata": {
    "execution": {
     "iopub.execute_input": "2025-08-10T11:51:53.408478Z",
     "iopub.status.busy": "2025-08-10T11:51:53.407717Z",
     "iopub.status.idle": "2025-08-10T11:51:53.426575Z",
     "shell.execute_reply": "2025-08-10T11:51:53.425331Z"
    }
   },
   "outputs": [],
   "source": [
    "def analyze_complexity_node(state: TravelPlanningState) -> TravelPlanningState:\n",
    "    \"\"\"分析13天规划复杂度，确定分片策略\"\"\"\n",
    "    print(f\"🔍 分析复杂度 - 会话ID: {state['session_id']}\")\n",
    "    \n",
    "    # 复杂度评分算法\n",
    "    complexity_score = 0\n",
    "    complexity_score += state['total_days'] * 5  # 13天 = 65分\n",
    "    complexity_score += len(state['user_preferences'].interests) * 3  # 兴趣点\n",
    "    complexity_score += state['user_preferences'].group_size * 2  # 团队规模\n",
    "    \n",
    "    print(f\"📊 复杂度评分: {complexity_score}\")\n",
    "    \n",
    "    # 更新状态\n",
    "    state['current_phase'] = 'analyze'\n",
    "    state['progress'] = 10.0\n",
    "    \n",
    "    # 记录分析结果\n",
    "    if 'analysis_result' not in state:\n",
    "        state['analysis_result'] = {}\n",
    "    \n",
    "    state['analysis_result']['complexity_score'] = complexity_score\n",
    "    state['analysis_result']['strategy'] = 'comprehensive' if complexity_score > 80 else 'standard'\n",
    "    \n",
    "    print(f\"✅ 复杂度分析完成，策略: {state['analysis_result']['strategy']}\")\n",
    "    return state\n",
    "\n",
    "def region_decomposition_node(state: TravelPlanningState) -> TravelPlanningState:\n",
    "    \"\"\"将新疆分解为4个核心区域\"\"\"\n",
    "    print(f\"🗺️ 区域分解 - 目标: {state['destination']}\")\n",
    "    \n",
    "    # 新疆4大区域分解策略\n",
    "    xinjiang_regions = [\n",
    "        RegionInfo(\n",
    "            name=\"乌鲁木齐\",\n",
    "            days=3,\n",
    "            priority=1,\n",
    "            key_attractions=[\"天山天池\", \"新疆博物馆\", \"红山公园\", \"大巴扎\"],\n",
    "            estimated_tokens=2500\n",
    "        ),\n",
    "        RegionInfo(\n",
    "            name=\"喀什\",\n",
    "            days=4,\n",
    "            priority=2,\n",
    "            key_attractions=[\"喀什古城\", \"艾提尕尔清真寺\", \"香妃墓\", \"帕米尔高原\"],\n",
    "            estimated_tokens=3200\n",
    "        ),\n",
    "        RegionInfo(\n",
    "            name=\"伊犁\",\n",
    "            days=3,\n",
    "            priority=3,\n",
    "            key_attractions=[\"那拉提草原\", \"薰衣草基地\", \"赛里木湖\", \"果子沟\"],\n",
    "            estimated_tokens=2500\n",
    "        ),\n",
    "        RegionInfo(\n",
    "            name=\"吐鲁番\",\n",
    "            days=3,\n",
    "            priority=4,\n",
    "            key_attractions=[\"火焰山\", \"葡萄沟\", \"交河故城\", \"坎儿井\"],\n",
    "            estimated_tokens=2500\n",
    "        )\n",
    "    ]\n",
    "    \n",
    "    # 根据用户偏好调整区域优先级\n",
    "    if \"自然\" in state['user_preferences'].travel_style:\n",
    "        # 提高伊犁优先级\n",
    "        for region in xinjiang_regions:\n",
    "            if region.name == \"伊犁\":\n",
    "                region.priority = 1\n",
    "    \n",
    "    if \"文化\" in state['user_preferences'].travel_style:\n",
    "        # 提高喀什优先级\n",
    "        for region in xinjiang_regions:\n",
    "            if region.name == \"喀什\":\n",
    "                region.priority = 1\n",
    "    \n",
    "    # 按优先级排序\n",
    "    xinjiang_regions.sort(key=lambda x: x.priority)\n",
    "    \n",
    "    # 更新状态\n",
    "    state['regions'] = xinjiang_regions\n",
    "    state['current_region_index'] = 0\n",
    "    state['current_phase'] = 'decomposition'\n",
    "    state['progress'] = 20.0\n",
    "    \n",
    "    # 计算总Token预估\n",
    "    total_tokens = sum(region.estimated_tokens for region in xinjiang_regions)\n",
    "    state['tokens_remaining'] = total_tokens\n",
    "    \n",
    "    print(f\"📍 区域分解完成:\")\n",
    "    for i, region in enumerate(xinjiang_regions):\n",
    "        print(f\"  {i+1}. {region.name} ({region.days}天) - 优先级{region.priority}\")\n",
    "    print(f\"💰 预估Token总量: {total_tokens}\")\n",
    "    \n",
    "    return state"
   ]
  },
  {
   "cell_type": "markdown",
   "metadata": {},
   "source": [
    "## 3. 条件路由函数\n",
    "\n",
    "智能决策机制，根据状态动态选择处理路径"
   ]
  },
  {
   "cell_type": "code",
   "execution_count": 7,
   "metadata": {
    "execution": {
     "iopub.execute_input": "2025-08-10T11:51:53.431245Z",
     "iopub.status.busy": "2025-08-10T11:51:53.430838Z",
     "iopub.status.idle": "2025-08-10T11:51:53.444683Z",
     "shell.execute_reply": "2025-08-10T11:51:53.442988Z"
    }
   },
   "outputs": [],
   "source": [
    "def should_continue_regions(state: TravelPlanningState) -> str:\n",
    "    \"\"\"判断是否继续处理下一个区域\"\"\"\n",
    "    current_index = state.get('current_region_index', 0)\n",
    "    total_regions = len(state.get('regions', []))\n",
    "    \n",
    "    print(f\"🔄 路由检查: 当前区域 {current_index + 1}/{total_regions}\")\n",
    "    \n",
    "    if current_index < total_regions - 1:\n",
    "        print(f\"➡️ 继续处理下一个区域\")\n",
    "        return \"collect_region_data\"\n",
    "    else:\n",
    "        print(f\"🔗 所有区域完成，开始合并\")\n",
    "        return \"merge_regions\"\n",
    "\n",
    "def should_retry_region(state: TravelPlanningState) -> str:\n",
    "    \"\"\"判断是否需要重试当前区域\"\"\"\n",
    "    retry_count = state.get('retry_count', 0)\n",
    "    quality_score = state.get('quality_score', 0.0)\n",
    "    \n",
    "    print(f\"🔍 质量检查: 评分 {quality_score:.2f}, 重试次数 {retry_count}\")\n",
    "    \n",
    "    if retry_count < 3 and quality_score < 0.7:\n",
    "        print(f\"🔄 质量不达标，重试区域规划\")\n",
    "        return \"plan_region\"\n",
    "    else:\n",
    "        print(f\"✅ 质量达标或重试次数已满，继续下一步\")\n",
    "        return \"next_region\"\n",
    "\n",
    "def route_by_data_quality(state: TravelPlanningState) -> str:\n",
    "    \"\"\"根据数据质量选择处理路径\"\"\"\n",
    "    real_data = state.get('real_data', {})\n",
    "    current_region = state['regions'][state['current_region_index']]\n",
    "    \n",
    "    # 检查当前区域的数据完整性\n",
    "    region_data = real_data.get(current_region.name, {})\n",
    "    \n",
    "    data_completeness = 0.0\n",
    "    if region_data.get('attractions'):\n",
    "        data_completeness += 0.4\n",
    "    if region_data.get('restaurants'):\n",
    "        data_completeness += 0.3\n",
    "    if region_data.get('hotels'):\n",
    "        data_completeness += 0.2\n",
    "    if region_data.get('weather'):\n",
    "        data_completeness += 0.1\n",
    "    \n",
    "    print(f\"📊 数据完整性: {data_completeness:.1%}\")\n",
    "    \n",
    "    if data_completeness >= 0.7:\n",
    "        return \"plan_region\"\n",
    "    elif data_completeness >= 0.4:\n",
    "        return \"plan_region_basic\"\n",
    "    else:\n",
    "        return \"use_fallback_data\""
   ]
  },
  {
   "cell_type": "markdown",
   "metadata": {},
   "source": [
    "## 4. 构建LangGraph状态图\n",
    "\n",
    "核心架构实现，支持智能路由和错误恢复"
   ]
  },
  {
   "cell_type": "code",
   "execution_count": 8,
   "metadata": {
    "execution": {
     "iopub.execute_input": "2025-08-10T11:51:53.449656Z",
     "iopub.status.busy": "2025-08-10T11:51:53.449254Z",
     "iopub.status.idle": "2025-08-10T11:51:53.487192Z",
     "shell.execute_reply": "2025-08-10T11:51:53.485898Z"
    }
   },
   "outputs": [
    {
     "name": "stdout",
     "output_type": "stream",
     "text": [
      "🏗️ LangGraph状态图构建完成\n",
      "📋 节点列表:\n",
      "  1. analyze_complexity - 复杂度分析\n",
      "  2. region_decomposition - 区域分解\n",
      "  3. collect_region_data - 数据收集\n",
      "  4. plan_region - 区域规划\n",
      "  5. validate_region - 质量验证\n",
      "  6. merge_regions - 区域合并\n",
      "  7. optimize_transitions - 转换优化\n",
      "  8. generate_final_output - 最终输出\n",
      "\n",
      "✅ 状态图编译成功！\n"
     ]
    }
   ],
   "source": [
    "# 占位符节点函数 - 将在后续notebook中实现\n",
    "def collect_region_data_node(state: TravelPlanningState) -> TravelPlanningState:\n",
    "    \"\"\"收集当前区域的高德MCP数据 - 占位符\"\"\"\n",
    "    print(f\"📡 数据收集节点 - 占位符实现\")\n",
    "    state['current_phase'] = 'collect_data'\n",
    "    state['progress'] = 30.0\n",
    "    return state\n",
    "\n",
    "def plan_region_node(state: TravelPlanningState) -> TravelPlanningState:\n",
    "    \"\"\"为当前区域生成详细规划 - 占位符\"\"\"\n",
    "    print(f\"🎯 区域规划节点 - 占位符实现\")\n",
    "    state['current_phase'] = 'plan_region'\n",
    "    state['progress'] = 50.0\n",
    "    return state\n",
    "\n",
    "def validate_region_node(state: TravelPlanningState) -> TravelPlanningState:\n",
    "    \"\"\"验证区域规划质量 - 占位符\"\"\"\n",
    "    print(f\"✅ 质量验证节点 - 占位符实现\")\n",
    "    state['quality_score'] = 0.85  # 模拟高质量\n",
    "    state['current_region_index'] += 1  # 移动到下一个区域\n",
    "    return state\n",
    "\n",
    "def merge_regions_node(state: TravelPlanningState) -> TravelPlanningState:\n",
    "    \"\"\"合并所有区域规划 - 占位符\"\"\"\n",
    "    print(f\"🔗 区域合并节点 - 占位符实现\")\n",
    "    state['current_phase'] = 'merge'\n",
    "    state['progress'] = 80.0\n",
    "    return state\n",
    "\n",
    "def optimize_transitions_node(state: TravelPlanningState) -> TravelPlanningState:\n",
    "    \"\"\"优化区域间转换 - 占位符\"\"\"\n",
    "    print(f\"⚡ 转换优化节点 - 占位符实现\")\n",
    "    state['progress'] = 90.0\n",
    "    return state\n",
    "\n",
    "def generate_final_output_node(state: TravelPlanningState) -> TravelPlanningState:\n",
    "    \"\"\"生成最终输出 - 占位符\"\"\"\n",
    "    print(f\"📄 最终输出节点 - 占位符实现\")\n",
    "    state['current_phase'] = 'completed'\n",
    "    state['progress'] = 100.0\n",
    "    return state\n",
    "\n",
    "def build_xinjiang_planning_graph():\n",
    "    \"\"\"构建13天新疆旅游规划的LangGraph状态图\"\"\"\n",
    "    \n",
    "    # 创建状态图\n",
    "    workflow = StateGraph(TravelPlanningState)\n",
    "    \n",
    "    # 添加核心节点\n",
    "    workflow.add_node(\"analyze_complexity\", analyze_complexity_node)\n",
    "    workflow.add_node(\"region_decomposition\", region_decomposition_node)\n",
    "    workflow.add_node(\"collect_region_data\", collect_region_data_node)\n",
    "    workflow.add_node(\"plan_region\", plan_region_node)\n",
    "    workflow.add_node(\"validate_region\", validate_region_node)\n",
    "    workflow.add_node(\"merge_regions\", merge_regions_node)\n",
    "    workflow.add_node(\"optimize_transitions\", optimize_transitions_node)\n",
    "    workflow.add_node(\"generate_final_output\", generate_final_output_node)\n",
    "    \n",
    "    # 设置入口点\n",
    "    workflow.set_entry_point(\"analyze_complexity\")\n",
    "    \n",
    "    # 添加固定边\n",
    "    workflow.add_edge(\"analyze_complexity\", \"region_decomposition\")\n",
    "    workflow.add_edge(\"region_decomposition\", \"collect_region_data\")\n",
    "    workflow.add_edge(\"collect_region_data\", \"plan_region\")\n",
    "    workflow.add_edge(\"plan_region\", \"validate_region\")\n",
    "    \n",
    "    # 添加条件边 - 区域处理循环\n",
    "    workflow.add_conditional_edges(\n",
    "        \"validate_region\",\n",
    "        should_continue_regions,\n",
    "        {\n",
    "            \"collect_region_data\": \"collect_region_data\",\n",
    "            \"merge_regions\": \"merge_regions\"\n",
    "        }\n",
    "    )\n",
    "    \n",
    "    # 添加固定边 - 最终处理\n",
    "    workflow.add_edge(\"merge_regions\", \"optimize_transitions\")\n",
    "    workflow.add_edge(\"optimize_transitions\", \"generate_final_output\")\n",
    "    workflow.add_edge(\"generate_final_output\", END)\n",
    "    \n",
    "    print(\"🏗️ LangGraph状态图构建完成\")\n",
    "    print(\"📋 节点列表:\")\n",
    "    print(\"  1. analyze_complexity - 复杂度分析\")\n",
    "    print(\"  2. region_decomposition - 区域分解\")\n",
    "    print(\"  3. collect_region_data - 数据收集\")\n",
    "    print(\"  4. plan_region - 区域规划\")\n",
    "    print(\"  5. validate_region - 质量验证\")\n",
    "    print(\"  6. merge_regions - 区域合并\")\n",
    "    print(\"  7. optimize_transitions - 转换优化\")\n",
    "    print(\"  8. generate_final_output - 最终输出\")\n",
    "    \n",
    "    return workflow.compile()\n",
    "\n",
    "# 测试状态图构建\n",
    "try:\n",
    "    planning_graph = build_xinjiang_planning_graph()\n",
    "    print(\"\\n✅ 状态图编译成功！\")\n",
    "except Exception as e:\n",
    "    print(f\"\\n❌ 状态图构建失败: {e}\")"
   ]
  },
  {
   "cell_type": "markdown",
   "metadata": {},
   "source": [
    "## 5. 初始化测试\n",
    "\n",
    "验证核心架构的可用性"
   ]
  },
  {
   "cell_type": "code",
   "execution_count": 9,
   "metadata": {
    "execution": {
     "iopub.execute_input": "2025-08-10T11:51:53.491403Z",
     "iopub.status.busy": "2025-08-10T11:51:53.491014Z",
     "iopub.status.idle": "2025-08-10T11:51:53.503400Z",
     "shell.execute_reply": "2025-08-10T11:51:53.501705Z"
    }
   },
   "outputs": [
    {
     "name": "stdout",
     "output_type": "stream",
     "text": [
      "🧪 测试状态创建成功\n",
      "📋 会话ID: test_session_1754826713\n",
      "🎯 目标: 新疆 13天\n",
      "👥 团队: 2人\n",
      "🎨 风格: 文化, 自然, 摄影\n"
     ]
    }
   ],
   "source": [
    "def create_test_state() -> TravelPlanningState:\n",
    "    \"\"\"创建测试用的初始状态\"\"\"\n",
    "    \n",
    "    test_preferences = UserPreferences(\n",
    "        budget_level=\"mid\",\n",
    "        travel_style=[\"文化\", \"自然\", \"摄影\"],\n",
    "        group_size=2,\n",
    "        special_requirements=\"希望体验当地民俗文化\",\n",
    "        interests=[\"历史文化\", \"自然风光\", \"美食体验\"]\n",
    "    )\n",
    "    \n",
    "    return TravelPlanningState(\n",
    "        session_id=f\"test_session_{int(time.time())}\",\n",
    "        user_preferences=test_preferences,\n",
    "        destination=\"新疆\",\n",
    "        total_days=13,\n",
    "        start_date=\"2024-06-01\",\n",
    "        regions=[],\n",
    "        current_region_index=0,\n",
    "        current_phase=\"init\",\n",
    "        real_data={},\n",
    "        region_plans={},\n",
    "        master_plan=None,\n",
    "        html_output=None,\n",
    "        progress=0.0,\n",
    "        errors=[],\n",
    "        retry_count=0,\n",
    "        quality_score=0.0,\n",
    "        tokens_used=0,\n",
    "        tokens_remaining=0\n",
    "    )\n",
    "\n",
    "# 创建测试状态\n",
    "test_state = create_test_state()\n",
    "print(\"🧪 测试状态创建成功\")\n",
    "print(f\"📋 会话ID: {test_state['session_id']}\")\n",
    "print(f\"🎯 目标: {test_state['destination']} {test_state['total_days']}天\")\n",
    "print(f\"👥 团队: {test_state['user_preferences'].group_size}人\")\n",
    "print(f\"🎨 风格: {', '.join(test_state['user_preferences'].travel_style)}\")"
   ]
  },
  {
   "cell_type": "markdown",
   "metadata": {},
   "source": [
    "## 6. 架构验证测试\n",
    "\n",
    "测试前两个节点的执行，验证架构可行性"
   ]
  },
  {
   "cell_type": "code",
   "execution_count": 10,
   "metadata": {
    "execution": {
     "iopub.execute_input": "2025-08-10T11:51:53.510491Z",
     "iopub.status.busy": "2025-08-10T11:51:53.509564Z",
     "iopub.status.idle": "2025-08-10T11:51:53.523820Z",
     "shell.execute_reply": "2025-08-10T11:51:53.522422Z"
    }
   },
   "outputs": [
    {
     "name": "stdout",
     "output_type": "stream",
     "text": [
      "=== 测试复杂度分析节点 ===\n",
      "🔍 分析复杂度 - 会话ID: test_session_1754826713\n",
      "📊 复杂度评分: 78\n",
      "✅ 复杂度分析完成，策略: standard\n",
      "进度: 10.0%\n",
      "阶段: analyze\n",
      "\n",
      "=== 测试区域分解节点 ===\n",
      "🗺️ 区域分解 - 目标: 新疆\n",
      "📍 区域分解完成:\n",
      "  1. 乌鲁木齐 (3天) - 优先级1\n",
      "  2. 喀什 (4天) - 优先级1\n",
      "  3. 伊犁 (3天) - 优先级1\n",
      "  4. 吐鲁番 (3天) - 优先级4\n",
      "💰 预估Token总量: 10700\n",
      "进度: 20.0%\n",
      "区域数量: 4\n",
      "当前区域索引: 0\n",
      "\n",
      "=== 测试条件路由 ===\n",
      "🔄 路由检查: 当前区域 1/4\n",
      "➡️ 继续处理下一个区域\n",
      "下一步: collect_region_data\n",
      "\n",
      "✅ 核心架构验证完成！\n",
      "📊 验证结果:\n",
      "  - 状态管理: ✅ 正常\n",
      "  - 节点执行: ✅ 正常\n",
      "  - 条件路由: ✅ 正常\n",
      "  - Token预估: 10700 tokens\n"
     ]
    }
   ],
   "source": [
    "# 测试复杂度分析节点\n",
    "print(\"=== 测试复杂度分析节点 ===\")\n",
    "test_state_1 = analyze_complexity_node(test_state.copy())\n",
    "print(f\"进度: {test_state_1['progress']}%\")\n",
    "print(f\"阶段: {test_state_1['current_phase']}\")\n",
    "\n",
    "print(\"\\n=== 测试区域分解节点 ===\")\n",
    "test_state_2 = region_decomposition_node(test_state_1)\n",
    "print(f\"进度: {test_state_2['progress']}%\")\n",
    "print(f\"区域数量: {len(test_state_2['regions'])}\")\n",
    "print(f\"当前区域索引: {test_state_2['current_region_index']}\")\n",
    "\n",
    "print(\"\\n=== 测试条件路由 ===\")\n",
    "next_step = should_continue_regions(test_state_2)\n",
    "print(f\"下一步: {next_step}\")\n",
    "\n",
    "print(\"\\n✅ 核心架构验证完成！\")\n",
    "print(\"📊 验证结果:\")\n",
    "print(f\"  - 状态管理: ✅ 正常\")\n",
    "print(f\"  - 节点执行: ✅ 正常\")\n",
    "print(f\"  - 条件路由: ✅ 正常\")\n",
    "print(f\"  - Token预估: {test_state_2['tokens_remaining']} tokens\")"
   ]
  }
 ],
 "metadata": {
  "kernelspec": {
   "display_name": "Python 3",
   "language": "python",
   "name": "python3"
  },
  "language_info": {
   "codemirror_mode": {
    "name": "ipython",
    "version": 3
   },
   "file_extension": ".py",
   "mimetype": "text/x-python",
   "name": "python",
   "nbconvert_exporter": "python",
   "pygments_lexer": "ipython3",
   "version": "3.10.18"
  }
 },
 "nbformat": 4,
 "nbformat_minor": 4
}
